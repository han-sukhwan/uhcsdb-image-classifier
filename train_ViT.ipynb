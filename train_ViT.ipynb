{
  "nbformat": 4,
  "nbformat_minor": 0,
  "metadata": {
    "colab": {
      "provenance": [],
      "gpuType": "T4",
      "include_colab_link": true
    },
    "kernelspec": {
      "name": "python3",
      "display_name": "Python 3"
    },
    "language_info": {
      "name": "python"
    },
    "accelerator": "GPU"
  },
  "cells": [
    {
      "cell_type": "markdown",
      "metadata": {
        "id": "view-in-github",
        "colab_type": "text"
      },
      "source": [
        "<a href=\"https://colab.research.google.com/github/han-sukhwan/uhcsdb-image-classifier/blob/main/train_ViT.ipynb\" target=\"_parent\"><img src=\"https://colab.research.google.com/assets/colab-badge.svg\" alt=\"Open In Colab\"/></a>"
      ]
    },
    {
      "cell_type": "code",
      "source": [
        "from google.colab import drive\n",
        "drive.mount('/content/drive')"
      ],
      "metadata": {
        "id": "oUV7WQqWLDC2",
        "colab": {
          "base_uri": "https://localhost:8080/"
        },
        "outputId": "1e59c370-01d1-4455-da8e-7aa2cbb74ba3"
      },
      "execution_count": null,
      "outputs": [
        {
          "output_type": "stream",
          "name": "stdout",
          "text": [
            "Mounted at /content/drive\n"
          ]
        }
      ]
    },
    {
      "cell_type": "code",
      "source": [
        "# Google Drive 경로 설정\n",
        "import os\n",
        "\n",
        "# -------------------------------\n",
        "# 인자 설정\n",
        "# -------------------------------\n",
        "SEED = 42\n",
        "\n",
        "# -------------------------------\n",
        "# 모델 저장 경로\n",
        "# -------------------------------\n",
        "MODEL_SAVE_DIR  = \"/content/drive/MyDrive/Research/microstructual images of steels and properities/metal_model/best_models\"\n",
        "os.makedirs(MODEL_SAVE_DIR , exist_ok=True)\n",
        "MODEL_SAVE_PATH = os.path.join(MODEL_SAVE_DIR, f\"best_vit_seed{SEED}.pth\")\n",
        "BEST_INFO_PATH = os.path.join(MODEL_SAVE_DIR, f\"best_vit_seed{SEED}_info.json\")"
      ],
      "metadata": {
        "id": "xt8UgXVB5KWM"
      },
      "execution_count": null,
      "outputs": []
    },
    {
      "cell_type": "code",
      "execution_count": null,
      "metadata": {
        "colab": {
          "base_uri": "https://localhost:8080/",
          "height": 107
        },
        "id": "zsAYhG_O1iCw",
        "outputId": "5d3184d8-b168-4794-9220-ff7c266b3600"
      },
      "outputs": [
        {
          "output_type": "stream",
          "name": "stdout",
          "text": [
            "🔐 kaggle.json 파일을 업로드하세요 (API Key)\n"
          ]
        },
        {
          "output_type": "display_data",
          "data": {
            "text/plain": [
              "<IPython.core.display.HTML object>"
            ],
            "text/html": [
              "\n",
              "     <input type=\"file\" id=\"files-e9d23c9d-2254-480b-bdc9-9bc9f66a7421\" name=\"files[]\" multiple disabled\n",
              "        style=\"border:none\" />\n",
              "     <output id=\"result-e9d23c9d-2254-480b-bdc9-9bc9f66a7421\">\n",
              "      Upload widget is only available when the cell has been executed in the\n",
              "      current browser session. Please rerun this cell to enable.\n",
              "      </output>\n",
              "      <script>// Copyright 2017 Google LLC\n",
              "//\n",
              "// Licensed under the Apache License, Version 2.0 (the \"License\");\n",
              "// you may not use this file except in compliance with the License.\n",
              "// You may obtain a copy of the License at\n",
              "//\n",
              "//      http://www.apache.org/licenses/LICENSE-2.0\n",
              "//\n",
              "// Unless required by applicable law or agreed to in writing, software\n",
              "// distributed under the License is distributed on an \"AS IS\" BASIS,\n",
              "// WITHOUT WARRANTIES OR CONDITIONS OF ANY KIND, either express or implied.\n",
              "// See the License for the specific language governing permissions and\n",
              "// limitations under the License.\n",
              "\n",
              "/**\n",
              " * @fileoverview Helpers for google.colab Python module.\n",
              " */\n",
              "(function(scope) {\n",
              "function span(text, styleAttributes = {}) {\n",
              "  const element = document.createElement('span');\n",
              "  element.textContent = text;\n",
              "  for (const key of Object.keys(styleAttributes)) {\n",
              "    element.style[key] = styleAttributes[key];\n",
              "  }\n",
              "  return element;\n",
              "}\n",
              "\n",
              "// Max number of bytes which will be uploaded at a time.\n",
              "const MAX_PAYLOAD_SIZE = 100 * 1024;\n",
              "\n",
              "function _uploadFiles(inputId, outputId) {\n",
              "  const steps = uploadFilesStep(inputId, outputId);\n",
              "  const outputElement = document.getElementById(outputId);\n",
              "  // Cache steps on the outputElement to make it available for the next call\n",
              "  // to uploadFilesContinue from Python.\n",
              "  outputElement.steps = steps;\n",
              "\n",
              "  return _uploadFilesContinue(outputId);\n",
              "}\n",
              "\n",
              "// This is roughly an async generator (not supported in the browser yet),\n",
              "// where there are multiple asynchronous steps and the Python side is going\n",
              "// to poll for completion of each step.\n",
              "// This uses a Promise to block the python side on completion of each step,\n",
              "// then passes the result of the previous step as the input to the next step.\n",
              "function _uploadFilesContinue(outputId) {\n",
              "  const outputElement = document.getElementById(outputId);\n",
              "  const steps = outputElement.steps;\n",
              "\n",
              "  const next = steps.next(outputElement.lastPromiseValue);\n",
              "  return Promise.resolve(next.value.promise).then((value) => {\n",
              "    // Cache the last promise value to make it available to the next\n",
              "    // step of the generator.\n",
              "    outputElement.lastPromiseValue = value;\n",
              "    return next.value.response;\n",
              "  });\n",
              "}\n",
              "\n",
              "/**\n",
              " * Generator function which is called between each async step of the upload\n",
              " * process.\n",
              " * @param {string} inputId Element ID of the input file picker element.\n",
              " * @param {string} outputId Element ID of the output display.\n",
              " * @return {!Iterable<!Object>} Iterable of next steps.\n",
              " */\n",
              "function* uploadFilesStep(inputId, outputId) {\n",
              "  const inputElement = document.getElementById(inputId);\n",
              "  inputElement.disabled = false;\n",
              "\n",
              "  const outputElement = document.getElementById(outputId);\n",
              "  outputElement.innerHTML = '';\n",
              "\n",
              "  const pickedPromise = new Promise((resolve) => {\n",
              "    inputElement.addEventListener('change', (e) => {\n",
              "      resolve(e.target.files);\n",
              "    });\n",
              "  });\n",
              "\n",
              "  const cancel = document.createElement('button');\n",
              "  inputElement.parentElement.appendChild(cancel);\n",
              "  cancel.textContent = 'Cancel upload';\n",
              "  const cancelPromise = new Promise((resolve) => {\n",
              "    cancel.onclick = () => {\n",
              "      resolve(null);\n",
              "    };\n",
              "  });\n",
              "\n",
              "  // Wait for the user to pick the files.\n",
              "  const files = yield {\n",
              "    promise: Promise.race([pickedPromise, cancelPromise]),\n",
              "    response: {\n",
              "      action: 'starting',\n",
              "    }\n",
              "  };\n",
              "\n",
              "  cancel.remove();\n",
              "\n",
              "  // Disable the input element since further picks are not allowed.\n",
              "  inputElement.disabled = true;\n",
              "\n",
              "  if (!files) {\n",
              "    return {\n",
              "      response: {\n",
              "        action: 'complete',\n",
              "      }\n",
              "    };\n",
              "  }\n",
              "\n",
              "  for (const file of files) {\n",
              "    const li = document.createElement('li');\n",
              "    li.append(span(file.name, {fontWeight: 'bold'}));\n",
              "    li.append(span(\n",
              "        `(${file.type || 'n/a'}) - ${file.size} bytes, ` +\n",
              "        `last modified: ${\n",
              "            file.lastModifiedDate ? file.lastModifiedDate.toLocaleDateString() :\n",
              "                                    'n/a'} - `));\n",
              "    const percent = span('0% done');\n",
              "    li.appendChild(percent);\n",
              "\n",
              "    outputElement.appendChild(li);\n",
              "\n",
              "    const fileDataPromise = new Promise((resolve) => {\n",
              "      const reader = new FileReader();\n",
              "      reader.onload = (e) => {\n",
              "        resolve(e.target.result);\n",
              "      };\n",
              "      reader.readAsArrayBuffer(file);\n",
              "    });\n",
              "    // Wait for the data to be ready.\n",
              "    let fileData = yield {\n",
              "      promise: fileDataPromise,\n",
              "      response: {\n",
              "        action: 'continue',\n",
              "      }\n",
              "    };\n",
              "\n",
              "    // Use a chunked sending to avoid message size limits. See b/62115660.\n",
              "    let position = 0;\n",
              "    do {\n",
              "      const length = Math.min(fileData.byteLength - position, MAX_PAYLOAD_SIZE);\n",
              "      const chunk = new Uint8Array(fileData, position, length);\n",
              "      position += length;\n",
              "\n",
              "      const base64 = btoa(String.fromCharCode.apply(null, chunk));\n",
              "      yield {\n",
              "        response: {\n",
              "          action: 'append',\n",
              "          file: file.name,\n",
              "          data: base64,\n",
              "        },\n",
              "      };\n",
              "\n",
              "      let percentDone = fileData.byteLength === 0 ?\n",
              "          100 :\n",
              "          Math.round((position / fileData.byteLength) * 100);\n",
              "      percent.textContent = `${percentDone}% done`;\n",
              "\n",
              "    } while (position < fileData.byteLength);\n",
              "  }\n",
              "\n",
              "  // All done.\n",
              "  yield {\n",
              "    response: {\n",
              "      action: 'complete',\n",
              "    }\n",
              "  };\n",
              "}\n",
              "\n",
              "scope.google = scope.google || {};\n",
              "scope.google.colab = scope.google.colab || {};\n",
              "scope.google.colab._files = {\n",
              "  _uploadFiles,\n",
              "  _uploadFilesContinue,\n",
              "};\n",
              "})(self);\n",
              "</script> "
            ]
          },
          "metadata": {}
        },
        {
          "output_type": "stream",
          "name": "stdout",
          "text": [
            "Saving kaggle.json to kaggle.json\n",
            "✅ kaggle.json 설정 완료 (내용은 출력하지 않음)\n"
          ]
        }
      ],
      "source": [
        "from google.colab import files\n",
        "import os, shutil\n",
        "\n",
        "# 업로드 요청\n",
        "print(\"🔐 kaggle.json 파일을 업로드하세요 (API Key)\")\n",
        "uploaded = files.upload()\n",
        "\n",
        "# 파일명 자동 추출\n",
        "for filename in uploaded.keys():\n",
        "    if filename.endswith(\".json\"):\n",
        "        kaggle_json_path = filename\n",
        "        break\n",
        "else:\n",
        "    raise ValueError(\"❌ JSON 형식의 파일이 없습니다.\")\n",
        "\n",
        "# ~/.kaggle 폴더 생성\n",
        "kaggle_dir = os.path.expanduser(\"~/.kaggle\")\n",
        "os.makedirs(kaggle_dir, exist_ok=True)\n",
        "\n",
        "# 복사 및 권한 설정\n",
        "shutil.copy(kaggle_json_path, os.path.join(kaggle_dir, \"kaggle.json\"))\n",
        "\n",
        "# 복사 후 원본 삭제\n",
        "os.remove(kaggle_json_path)\n",
        "\n",
        "os.chmod(os.path.join(kaggle_dir, \"kaggle.json\"), 0o600)\n",
        "\n",
        "print(\"✅ kaggle.json 설정 완료 (내용은 출력하지 않음)\")\n"
      ]
    },
    {
      "cell_type": "code",
      "source": [
        "# 3. 데이터셋 다운로드 및 압축 해제\n",
        "!kaggle datasets download -d safi842/highcarbon-micrographs --unzip -p ./metal_dataset"
      ],
      "metadata": {
        "colab": {
          "base_uri": "https://localhost:8080/"
        },
        "id": "m6i4OKlR2P40",
        "outputId": "b324493c-e58f-4467-b280-f9b1c0439b7e"
      },
      "execution_count": null,
      "outputs": [
        {
          "output_type": "stream",
          "name": "stdout",
          "text": [
            "Dataset URL: https://www.kaggle.com/datasets/safi842/highcarbon-micrographs\n",
            "License(s): copyright-authors\n",
            "Downloading highcarbon-micrographs.zip to ./metal_dataset\n",
            " 91% 386M/426M [00:04<00:00, 93.1MB/s]\n",
            "100% 426M/426M [00:04<00:00, 107MB/s] \n"
          ]
        }
      ]
    },
    {
      "cell_type": "code",
      "source": [
        "import os\n",
        "import shutil\n",
        "import pandas as pd\n",
        "\n",
        "# 경로 설정\n",
        "excel_path = \"metal_dataset/new_metadata.xlsx\"\n",
        "image_dir = \"metal_dataset/For Training/Cropped\"  # 실제 경로 반영\n",
        "output_dir = \"metal_dataset_sorted\"\n",
        "\n",
        "# 엑셀 읽기\n",
        "df = pd.read_excel(excel_path)\n",
        "\n",
        "# 폴더 정리 시작\n",
        "for _, row in df.iterrows():\n",
        "    filename = row['path']  # 예: 'micrograph973.png'\n",
        "    real_filename = f\"Cropped{filename}\"  # 실제 존재하는 파일 이름\n",
        "    label = str(row['primary_microconstituent']).strip().lower().replace(\" \", \"_\").replace(\"+\", \"_plus_\")\n",
        "\n",
        "    src = os.path.join(image_dir, real_filename)\n",
        "    dst_dir = os.path.join(output_dir, label)\n",
        "    dst = os.path.join(dst_dir, real_filename)\n",
        "\n",
        "    os.makedirs(dst_dir, exist_ok=True)\n",
        "\n",
        "    if os.path.exists(src):\n",
        "        shutil.copy(src, dst)\n",
        "    else:\n",
        "        print(f\"[경고] 이미지 파일 없음: {src}\")\n"
      ],
      "metadata": {
        "id": "_YfcGhG12P-w"
      },
      "execution_count": null,
      "outputs": []
    },
    {
      "cell_type": "code",
      "source": [
        "# check_label_distribution.py\n",
        "\n",
        "import pandas as pd\n",
        "\n",
        "# 엑셀 경로\n",
        "excel_path = \"metal_dataset/new_metadata.xlsx\"\n",
        "\n",
        "# 라벨 정규화 함수 정의\n",
        "def normalize_label(label):\n",
        "    if pd.isna(label):\n",
        "        return \"unknown\"\n",
        "    return str(label).strip().lower().replace(\" \", \"_\").replace(\"+\", \"_plus_\")\n",
        "\n",
        "# 엑셀 파일 읽기\n",
        "df = pd.read_excel(excel_path)\n",
        "\n",
        "# 라벨 정규화\n",
        "df['normalized_label'] = df['primary_microconstituent'].apply(normalize_label)\n",
        "\n",
        "# 고유 라벨 분포 집계\n",
        "label_counts = df['normalized_label'].value_counts()\n",
        "\n",
        "# 결과 출력\n",
        "print(f\"전체 이미지 수 (엑셀 기준): {len(df)}\")\n",
        "print(\"고유 라벨 분포:\")\n",
        "print(label_counts)\n",
        "\n",
        "# 결과를 파일로 저장 (선택)\n",
        "label_counts.to_csv(\"label_distribution_summary.csv\")"
      ],
      "metadata": {
        "colab": {
          "base_uri": "https://localhost:8080/"
        },
        "id": "VsGg31tf2QDq",
        "outputId": "d9a98b22-c4da-447f-ea77-fcc7dd1109cd"
      },
      "execution_count": null,
      "outputs": [
        {
          "output_type": "stream",
          "name": "stdout",
          "text": [
            "전체 이미지 수 (엑셀 기준): 598\n",
            "고유 라벨 분포:\n",
            "normalized_label\n",
            "spheroidite                       372\n",
            "network                           101\n",
            "spheroidite_plus_widmanstatten     77\n",
            "pearlite_plus_spheroidite          28\n",
            "pearlite                           15\n",
            "pearlite_plus_widmanstatten         5\n",
            "Name: count, dtype: int64\n"
          ]
        }
      ]
    },
    {
      "cell_type": "code",
      "source": [
        "# 03_split_dataset.py\n",
        "\n",
        "import os\n",
        "import shutil\n",
        "import random\n",
        "\n",
        "# 설정\n",
        "INPUT_DIR = \"metal_dataset_sorted\"\n",
        "OUTPUT_DIR = \"dataset_split\"\n",
        "SPLIT_RATIOS = (0.8, 0.1, 0.1)  # train : val : test\n",
        "\n",
        "# 시드 고정\n",
        "random.seed(42)\n",
        "\n",
        "# 클래스 순회\n",
        "for class_name in os.listdir(INPUT_DIR):\n",
        "    class_path = os.path.join(INPUT_DIR, class_name)\n",
        "    if not os.path.isdir(class_path):\n",
        "        continue\n",
        "\n",
        "    images = [f for f in os.listdir(class_path) if f.lower().endswith((\".png\", \".jpg\", \".jpeg\"))]\n",
        "    total = len(images)\n",
        "    random.shuffle(images)\n",
        "\n",
        "    # 기본 분할 수 계산\n",
        "    n_train = int(total * SPLIT_RATIOS[0])\n",
        "    n_val   = int(total * SPLIT_RATIOS[1])\n",
        "    n_test  = total - n_train - n_val\n",
        "\n",
        "    # 최소 1장씩 보장\n",
        "    if total >= 3:\n",
        "        n_train = max(n_train, 1)\n",
        "        n_val = max(n_val, 1)\n",
        "        n_test = max(n_test, 1)\n",
        "\n",
        "        while n_train + n_val + n_test > total:\n",
        "            n_train -= 1  # 총합이 초과되면 하나 줄임\n",
        "    elif total == 2:\n",
        "        n_train, n_val, n_test = 1, 1, 0\n",
        "    elif total == 1:\n",
        "        n_train, n_val, n_test = 1, 0, 0\n",
        "    else:\n",
        "        print(f\"[주의] {class_name} 클래스에 이미지 없음. 건너뜀.\")\n",
        "        continue\n",
        "\n",
        "    split_sets = {\n",
        "        'train': images[:n_train],\n",
        "        'val': images[n_train:n_train + n_val],\n",
        "        'test': images[n_train + n_val:n_train + n_val + n_test]\n",
        "    }\n",
        "\n",
        "    # 디렉토리 생성 및 이미지 복사\n",
        "    for split_name, split_images in split_sets.items():\n",
        "        split_dir = os.path.join(OUTPUT_DIR, split_name, class_name)\n",
        "        os.makedirs(split_dir, exist_ok=True)\n",
        "\n",
        "        for img_name in split_images:\n",
        "            src = os.path.join(class_path, img_name)\n",
        "            dst = os.path.join(split_dir, img_name)\n",
        "            shutil.copy2(src, dst)\n",
        "\n",
        "    print(f\"{class_name:<40} → 총 {total}장 | train: {len(split_sets['train'])}, val: {len(split_sets['val'])}, test: {len(split_sets['test'])}\")"
      ],
      "metadata": {
        "colab": {
          "base_uri": "https://localhost:8080/"
        },
        "id": "ayPZOPbp2QGO",
        "outputId": "bb0081fb-89e6-4116-b8d4-e0b8e2360814"
      },
      "execution_count": null,
      "outputs": [
        {
          "output_type": "stream",
          "name": "stdout",
          "text": [
            "pearlite_plus_spheroidite                → 총 28장 | train: 22, val: 2, test: 4\n",
            "network                                  → 총 101장 | train: 80, val: 10, test: 11\n",
            "pearlite_plus_widmanstatten              → 총 5장 | train: 3, val: 1, test: 1\n",
            "spheroidite                              → 총 372장 | train: 297, val: 37, test: 38\n",
            "spheroidite_plus_widmanstatten           → 총 77장 | train: 61, val: 7, test: 9\n",
            "pearlite                                 → 총 15장 | train: 12, val: 1, test: 2\n"
          ]
        }
      ]
    },
    {
      "cell_type": "code",
      "source": [
        "# train_vit.py\n",
        "\n",
        "import os\n",
        "import json\n",
        "import argparse\n",
        "from collections import Counter\n",
        "import random, numpy as np\n",
        "\n",
        "import torch\n",
        "import torch.nn as nn\n",
        "import torch.optim as optim\n",
        "from torch.utils.data import DataLoader, WeightedRandomSampler\n",
        "from torchvision import datasets, transforms\n",
        "from tqdm import tqdm\n",
        "import timm  # Vision Transformer 라이브러리\n",
        "\n",
        "# -------------------------------\n",
        "# 시드 고정\n",
        "# -------------------------------\n",
        "SEED = 781222\n",
        "random.seed(SEED)\n",
        "np.random.seed(SEED)\n",
        "torch.manual_seed(SEED)\n",
        "torch.cuda.manual_seed(SEED)\n",
        "torch.backends.cudnn.deterministic = True\n",
        "torch.backends.cudnn.benchmark = False\n",
        "\n",
        "# -------------------------------\n",
        "# 설정\n",
        "# -------------------------------\n",
        "DATASET_DIR = \"dataset_split\"\n",
        "BATCH_SIZE = 32\n",
        "NUM_WORKERS = 0\n",
        "IMAGE_SIZE = (224, 224)\n",
        "NUM_CLASSES = 6\n",
        "NUM_EPOCHS = 20\n",
        "DEVICE = torch.device(\"cuda\" if torch.cuda.is_available() else \"cpu\")\n",
        "\n",
        "# -------------------------------\n",
        "# Transform 정의\n",
        "# -------------------------------\n",
        "train_transform = transforms.Compose([\n",
        "    transforms.Resize(IMAGE_SIZE),\n",
        "    transforms.RandomHorizontalFlip(),\n",
        "    transforms.RandomRotation(10),\n",
        "    transforms.ToTensor(),\n",
        "    transforms.Normalize(mean=[0.5], std=[0.5])\n",
        "])\n",
        "val_transform = transforms.Compose([\n",
        "    transforms.Resize(IMAGE_SIZE),\n",
        "    transforms.ToTensor(),\n",
        "    transforms.Normalize(mean=[0.5], std=[0.5])\n",
        "])\n",
        "\n",
        "# -------------------------------\n",
        "# Dataset 로딩\n",
        "# -------------------------------\n",
        "train_dataset = datasets.ImageFolder(os.path.join(DATASET_DIR, \"train\"), transform=train_transform)\n",
        "val_dataset   = datasets.ImageFolder(os.path.join(DATASET_DIR, \"val\"), transform=val_transform)\n",
        "\n",
        "with open(\"class_to_idx.json\", \"w\") as f:\n",
        "    json.dump(train_dataset.class_to_idx, f, indent=2)\n",
        "\n",
        "# -------------------------------\n",
        "# Sampler 정의\n",
        "# -------------------------------\n",
        "def get_sampler(dataset):\n",
        "    targets = dataset.targets\n",
        "    class_counts = Counter(targets)\n",
        "    class_weights = {cls: 1.0 / count for cls, count in class_counts.items()}\n",
        "    sample_weights = [class_weights[t] for t in targets]\n",
        "    return WeightedRandomSampler(sample_weights, len(sample_weights), replacement=True)\n",
        "\n",
        "train_loader = DataLoader(train_dataset, batch_size=BATCH_SIZE, sampler=get_sampler(train_dataset), num_workers=NUM_WORKERS)\n",
        "val_loader   = DataLoader(val_dataset, batch_size=BATCH_SIZE, shuffle=False, num_workers=NUM_WORKERS)\n",
        "\n",
        "# -------------------------------\n",
        "# ViT 모델 정의 (pretrained)\n",
        "# -------------------------------\n",
        "model = timm.create_model(\"vit_base_patch16_224\", pretrained=True, num_classes=NUM_CLASSES)\n",
        "model = model.to(DEVICE)\n",
        "\n",
        "criterion = nn.CrossEntropyLoss()\n",
        "optimizer = optim.AdamW(model.parameters(), lr=1e-4)\n",
        "\n",
        "# -------------------------------\n",
        "# 학습 루프\n",
        "# -------------------------------\n",
        "best_acc = 0.0\n",
        "for epoch in range(NUM_EPOCHS):\n",
        "    model.train()\n",
        "    train_loss, correct, total = 0.0, 0, 0\n",
        "\n",
        "    for images, labels in tqdm(train_loader, desc=f\"[Epoch {epoch+1}/{NUM_EPOCHS}]\"):\n",
        "        images, labels = images.to(DEVICE), labels.to(DEVICE)\n",
        "\n",
        "        optimizer.zero_grad()\n",
        "        outputs = model(images)\n",
        "        loss = criterion(outputs, labels)\n",
        "        loss.backward()\n",
        "        optimizer.step()\n",
        "\n",
        "        train_loss += loss.item() * images.size(0)\n",
        "        _, predicted = torch.max(outputs, 1)\n",
        "        correct += (predicted == labels).sum().item()\n",
        "        total += labels.size(0)\n",
        "\n",
        "    train_acc = correct / total\n",
        "    train_loss /= total\n",
        "\n",
        "    # -------------------------------\n",
        "    # 검증\n",
        "    # -------------------------------\n",
        "    model.eval()\n",
        "    val_correct, val_total = 0, 0\n",
        "    with torch.no_grad():\n",
        "        for images, labels in val_loader:\n",
        "            images, labels = images.to(DEVICE), labels.to(DEVICE)\n",
        "            outputs = model(images)\n",
        "            _, predicted = torch.max(outputs, 1)\n",
        "            val_correct += (predicted == labels).sum().item()\n",
        "            val_total += labels.size(0)\n",
        "\n",
        "    val_acc = val_correct / val_total\n",
        "\n",
        "    print(f\"Epoch {epoch+1}: Train Loss = {train_loss:.4f}, Train Acc = {train_acc:.4f}, Val Acc = {val_acc:.4f}\")\n",
        "\n",
        "    # -------------------------------\n",
        "    # 모델 저장\n",
        "    # -------------------------------\n",
        "    if val_acc > best_acc:\n",
        "        best_acc = val_acc\n",
        "\n",
        "        torch.save({\n",
        "            'model_state_dict': model.state_dict(),\n",
        "            'optimizer_state_dict': optimizer.state_dict(),\n",
        "            'epoch': epoch + 1,\n",
        "            'train_acc': train_acc,\n",
        "            'val_acc': val_acc,\n",
        "            'seed': SEED,\n",
        "        }, MODEL_SAVE_PATH)\n",
        "\n",
        "        best_info = {\n",
        "            'model_path': MODEL_SAVE_PATH,\n",
        "            'train_acc': round(train_acc, 4),\n",
        "            'val_acc': round(val_acc, 4),\n",
        "            'epoch': epoch + 1,\n",
        "            'seed': SEED\n",
        "        }\n",
        "\n",
        "        with open(BEST_INFO_PATH, 'w') as f:\n",
        "            json.dump(best_info, f, indent=2)\n",
        "\n",
        "        print(f\"✅ 모델 저장됨: {MODEL_SAVE_PATH}\")\n",
        "        print(f\"ℹ️  Best model info 저장됨: {BEST_INFO_PATH}\")\n",
        "\n",
        "print(f\"\\n🎯 학습 완료. 최고 검증 정확도: {best_acc:.4f}\")\n"
      ],
      "metadata": {
        "colab": {
          "base_uri": "https://localhost:8080/"
        },
        "id": "2gXkQh7695Wg",
        "outputId": "d7b857a9-6439-42c4-fa27-812f8b9dab05"
      },
      "execution_count": null,
      "outputs": [
        {
          "output_type": "stream",
          "name": "stderr",
          "text": [
            "[Epoch 1/20]: 100%|██████████| 15/15 [00:22<00:00,  1.51s/it]\n"
          ]
        },
        {
          "output_type": "stream",
          "name": "stdout",
          "text": [
            "Epoch 1: Train Loss = 0.9156, Train Acc = 0.6505, Val Acc = 0.7241\n",
            "✅ 모델 저장됨: /content/drive/MyDrive/Research/microstructual images of steels and properities/metal_model/best_models/best_vit_seed42.pth\n",
            "ℹ️  Best model info 저장됨: /content/drive/MyDrive/Research/microstructual images of steels and properities/metal_model/best_models/best_vit_seed42_info.json\n"
          ]
        },
        {
          "output_type": "stream",
          "name": "stderr",
          "text": [
            "[Epoch 2/20]: 100%|██████████| 15/15 [00:24<00:00,  1.66s/it]\n"
          ]
        },
        {
          "output_type": "stream",
          "name": "stdout",
          "text": [
            "Epoch 2: Train Loss = 0.2313, Train Acc = 0.9095, Val Acc = 0.5517\n"
          ]
        },
        {
          "output_type": "stream",
          "name": "stderr",
          "text": [
            "[Epoch 3/20]: 100%|██████████| 15/15 [00:25<00:00,  1.72s/it]\n"
          ]
        },
        {
          "output_type": "stream",
          "name": "stdout",
          "text": [
            "Epoch 3: Train Loss = 0.2234, Train Acc = 0.9263, Val Acc = 0.8276\n",
            "✅ 모델 저장됨: /content/drive/MyDrive/Research/microstructual images of steels and properities/metal_model/best_models/best_vit_seed42.pth\n",
            "ℹ️  Best model info 저장됨: /content/drive/MyDrive/Research/microstructual images of steels and properities/metal_model/best_models/best_vit_seed42_info.json\n"
          ]
        },
        {
          "output_type": "stream",
          "name": "stderr",
          "text": [
            "[Epoch 4/20]: 100%|██████████| 15/15 [00:23<00:00,  1.58s/it]\n"
          ]
        },
        {
          "output_type": "stream",
          "name": "stdout",
          "text": [
            "Epoch 4: Train Loss = 0.2676, Train Acc = 0.9095, Val Acc = 0.6379\n"
          ]
        },
        {
          "output_type": "stream",
          "name": "stderr",
          "text": [
            "[Epoch 5/20]: 100%|██████████| 15/15 [00:25<00:00,  1.72s/it]\n"
          ]
        },
        {
          "output_type": "stream",
          "name": "stdout",
          "text": [
            "Epoch 5: Train Loss = 0.1540, Train Acc = 0.9495, Val Acc = 0.8103\n"
          ]
        },
        {
          "output_type": "stream",
          "name": "stderr",
          "text": [
            "[Epoch 6/20]: 100%|██████████| 15/15 [00:22<00:00,  1.50s/it]\n"
          ]
        },
        {
          "output_type": "stream",
          "name": "stdout",
          "text": [
            "Epoch 6: Train Loss = 0.0697, Train Acc = 0.9768, Val Acc = 0.8621\n",
            "✅ 모델 저장됨: /content/drive/MyDrive/Research/microstructual images of steels and properities/metal_model/best_models/best_vit_seed42.pth\n",
            "ℹ️  Best model info 저장됨: /content/drive/MyDrive/Research/microstructual images of steels and properities/metal_model/best_models/best_vit_seed42_info.json\n"
          ]
        },
        {
          "output_type": "stream",
          "name": "stderr",
          "text": [
            "[Epoch 7/20]: 100%|██████████| 15/15 [00:24<00:00,  1.60s/it]\n"
          ]
        },
        {
          "output_type": "stream",
          "name": "stdout",
          "text": [
            "Epoch 7: Train Loss = 0.0526, Train Acc = 0.9832, Val Acc = 0.8276\n"
          ]
        },
        {
          "output_type": "stream",
          "name": "stderr",
          "text": [
            "[Epoch 8/20]: 100%|██████████| 15/15 [00:25<00:00,  1.70s/it]\n"
          ]
        },
        {
          "output_type": "stream",
          "name": "stdout",
          "text": [
            "Epoch 8: Train Loss = 0.0711, Train Acc = 0.9789, Val Acc = 0.8276\n"
          ]
        },
        {
          "output_type": "stream",
          "name": "stderr",
          "text": [
            "[Epoch 9/20]: 100%|██████████| 15/15 [00:23<00:00,  1.54s/it]\n"
          ]
        },
        {
          "output_type": "stream",
          "name": "stdout",
          "text": [
            "Epoch 9: Train Loss = 0.1134, Train Acc = 0.9558, Val Acc = 0.8276\n"
          ]
        },
        {
          "output_type": "stream",
          "name": "stderr",
          "text": [
            "[Epoch 10/20]: 100%|██████████| 15/15 [00:24<00:00,  1.60s/it]\n"
          ]
        },
        {
          "output_type": "stream",
          "name": "stdout",
          "text": [
            "Epoch 10: Train Loss = 0.1392, Train Acc = 0.9600, Val Acc = 0.8621\n"
          ]
        },
        {
          "output_type": "stream",
          "name": "stderr",
          "text": [
            "[Epoch 11/20]: 100%|██████████| 15/15 [00:22<00:00,  1.51s/it]\n"
          ]
        },
        {
          "output_type": "stream",
          "name": "stdout",
          "text": [
            "Epoch 11: Train Loss = 0.1020, Train Acc = 0.9663, Val Acc = 0.8448\n"
          ]
        },
        {
          "output_type": "stream",
          "name": "stderr",
          "text": [
            "[Epoch 12/20]: 100%|██████████| 15/15 [00:22<00:00,  1.50s/it]\n"
          ]
        },
        {
          "output_type": "stream",
          "name": "stdout",
          "text": [
            "Epoch 12: Train Loss = 0.1005, Train Acc = 0.9600, Val Acc = 0.8448\n"
          ]
        },
        {
          "output_type": "stream",
          "name": "stderr",
          "text": [
            "[Epoch 13/20]: 100%|██████████| 15/15 [00:22<00:00,  1.49s/it]\n"
          ]
        },
        {
          "output_type": "stream",
          "name": "stdout",
          "text": [
            "Epoch 13: Train Loss = 0.0548, Train Acc = 0.9768, Val Acc = 0.8448\n"
          ]
        },
        {
          "output_type": "stream",
          "name": "stderr",
          "text": [
            "[Epoch 14/20]: 100%|██████████| 15/15 [00:22<00:00,  1.51s/it]\n"
          ]
        },
        {
          "output_type": "stream",
          "name": "stdout",
          "text": [
            "Epoch 14: Train Loss = 0.0458, Train Acc = 0.9832, Val Acc = 0.8793\n",
            "✅ 모델 저장됨: /content/drive/MyDrive/Research/microstructual images of steels and properities/metal_model/best_models/best_vit_seed42.pth\n",
            "ℹ️  Best model info 저장됨: /content/drive/MyDrive/Research/microstructual images of steels and properities/metal_model/best_models/best_vit_seed42_info.json\n"
          ]
        },
        {
          "output_type": "stream",
          "name": "stderr",
          "text": [
            "[Epoch 15/20]: 100%|██████████| 15/15 [00:24<00:00,  1.66s/it]\n"
          ]
        },
        {
          "output_type": "stream",
          "name": "stdout",
          "text": [
            "Epoch 15: Train Loss = 0.0138, Train Acc = 0.9937, Val Acc = 0.8621\n"
          ]
        },
        {
          "output_type": "stream",
          "name": "stderr",
          "text": [
            "[Epoch 16/20]: 100%|██████████| 15/15 [00:25<00:00,  1.68s/it]\n"
          ]
        },
        {
          "output_type": "stream",
          "name": "stdout",
          "text": [
            "Epoch 16: Train Loss = 0.0251, Train Acc = 0.9916, Val Acc = 0.8621\n"
          ]
        },
        {
          "output_type": "stream",
          "name": "stderr",
          "text": [
            "[Epoch 17/20]: 100%|██████████| 15/15 [00:22<00:00,  1.53s/it]\n"
          ]
        },
        {
          "output_type": "stream",
          "name": "stdout",
          "text": [
            "Epoch 17: Train Loss = 0.0272, Train Acc = 0.9874, Val Acc = 0.8448\n"
          ]
        },
        {
          "output_type": "stream",
          "name": "stderr",
          "text": [
            "[Epoch 18/20]: 100%|██████████| 15/15 [00:22<00:00,  1.50s/it]\n"
          ]
        },
        {
          "output_type": "stream",
          "name": "stdout",
          "text": [
            "Epoch 18: Train Loss = 0.0101, Train Acc = 0.9979, Val Acc = 0.8448\n"
          ]
        },
        {
          "output_type": "stream",
          "name": "stderr",
          "text": [
            "[Epoch 19/20]: 100%|██████████| 15/15 [00:22<00:00,  1.50s/it]\n"
          ]
        },
        {
          "output_type": "stream",
          "name": "stdout",
          "text": [
            "Epoch 19: Train Loss = 0.0096, Train Acc = 0.9979, Val Acc = 0.8793\n"
          ]
        },
        {
          "output_type": "stream",
          "name": "stderr",
          "text": [
            "[Epoch 20/20]: 100%|██████████| 15/15 [00:22<00:00,  1.48s/it]\n"
          ]
        },
        {
          "output_type": "stream",
          "name": "stdout",
          "text": [
            "Epoch 20: Train Loss = 0.0045, Train Acc = 0.9979, Val Acc = 0.8448\n",
            "\n",
            "🎯 학습 완료. 최고 검증 정확도: 0.8793\n"
          ]
        }
      ]
    },
    {
      "cell_type": "code",
      "source": [
        "# -------------------------------\n",
        "# 테스트셋 평가\n",
        "# -------------------------------\n",
        "from sklearn.metrics import classification_report, confusion_matrix, ConfusionMatrixDisplay\n",
        "import matplotlib.pyplot as plt\n",
        "\n",
        "print(\"\\n🧪 테스트셋 성능 평가 중...\")\n",
        "\n",
        "# Transform (val과 동일)\n",
        "test_transform = transforms.Compose([\n",
        "    transforms.Resize(IMAGE_SIZE),\n",
        "    transforms.ToTensor(),\n",
        "    transforms.Normalize(mean=[0.5], std=[0.5])\n",
        "])\n",
        "\n",
        "# TestSet 로드\n",
        "test_dataset = datasets.ImageFolder(os.path.join(DATASET_DIR, \"test\"), transform=test_transform)\n",
        "test_loader = DataLoader(test_dataset, batch_size=BATCH_SIZE, shuffle=False)\n",
        "\n",
        "# 저장된 best 모델 로드\n",
        "checkpoint = torch.load(MODEL_SAVE_PATH, map_location=DEVICE)\n",
        "model.load_state_dict(checkpoint['model_state_dict'])\n",
        "model.eval()\n",
        "\n",
        "# 예측 수행\n",
        "y_true, y_pred = [], []\n",
        "\n",
        "with torch.no_grad():\n",
        "    for images, labels in test_loader:\n",
        "        images = images.to(DEVICE)\n",
        "        outputs = model(images)\n",
        "        _, predicted = torch.max(outputs, 1)\n",
        "        y_true.extend(labels.numpy())\n",
        "        y_pred.extend(predicted.cpu().numpy())\n",
        "\n",
        "# 클래스 이름 불러오기\n",
        "with open(\"class_to_idx.json\", \"r\") as f:\n",
        "    class_to_idx = json.load(f)\n",
        "idx_to_class = {v: k for k, v in class_to_idx.items()}\n",
        "target_names = [idx_to_class[i] for i in range(len(idx_to_class))]\n",
        "\n",
        "# 결과 출력\n",
        "print(\"\\n📊 Classification Report:\")\n",
        "print(classification_report(y_true, y_pred, target_names=target_names))\n",
        "\n",
        "# Confusion Matrix 시각화 및 저장\n",
        "cm = confusion_matrix(y_true, y_pred)\n",
        "fig, ax = plt.subplots(figsize=(9, 7))  # 그림 크기 충분히 확보\n",
        "disp = ConfusionMatrixDisplay(confusion_matrix=cm, display_labels=target_names)\n",
        "disp.plot(ax=ax, cmap=\"Blues\", colorbar=True)\n",
        "\n",
        "# x축 레이블 회전과 정렬\n",
        "plt.xticks(rotation=60, ha='right')\n",
        "plt.title(\"Confusion Matrix (Test Set)\", fontsize=14)\n",
        "plt.tight_layout()\n",
        "plt.savefig(\"confusion_matrix_test.png\", dpi=300)\n",
        "plt.show()"
      ],
      "metadata": {
        "colab": {
          "base_uri": "https://localhost:8080/",
          "height": 1000
        },
        "id": "RAXT-x8b1tif",
        "outputId": "4e09248a-85c4-4ee0-8805-d10b1f1644ae"
      },
      "execution_count": null,
      "outputs": [
        {
          "output_type": "stream",
          "name": "stdout",
          "text": [
            "\n",
            "🧪 테스트셋 성능 평가 중...\n",
            "\n",
            "📊 Classification Report:\n",
            "                                precision    recall  f1-score   support\n",
            "\n",
            "                       network       1.00      1.00      1.00        11\n",
            "                      pearlite       1.00      1.00      1.00         2\n",
            "     pearlite_plus_spheroidite       1.00      0.75      0.86         4\n",
            "   pearlite_plus_widmanstatten       0.00      0.00      0.00         1\n",
            "                   spheroidite       0.86      1.00      0.93        38\n",
            "spheroidite_plus_widmanstatten       0.80      0.44      0.57         9\n",
            "\n",
            "                      accuracy                           0.89        65\n",
            "                     macro avg       0.78      0.70      0.73        65\n",
            "                  weighted avg       0.88      0.89      0.87        65\n",
            "\n"
          ]
        },
        {
          "output_type": "stream",
          "name": "stderr",
          "text": [
            "/usr/local/lib/python3.11/dist-packages/sklearn/metrics/_classification.py:1565: UndefinedMetricWarning: Precision is ill-defined and being set to 0.0 in labels with no predicted samples. Use `zero_division` parameter to control this behavior.\n",
            "  _warn_prf(average, modifier, f\"{metric.capitalize()} is\", len(result))\n",
            "/usr/local/lib/python3.11/dist-packages/sklearn/metrics/_classification.py:1565: UndefinedMetricWarning: Precision is ill-defined and being set to 0.0 in labels with no predicted samples. Use `zero_division` parameter to control this behavior.\n",
            "  _warn_prf(average, modifier, f\"{metric.capitalize()} is\", len(result))\n",
            "/usr/local/lib/python3.11/dist-packages/sklearn/metrics/_classification.py:1565: UndefinedMetricWarning: Precision is ill-defined and being set to 0.0 in labels with no predicted samples. Use `zero_division` parameter to control this behavior.\n",
            "  _warn_prf(average, modifier, f\"{metric.capitalize()} is\", len(result))\n"
          ]
        },
        {
          "output_type": "display_data",
          "data": {
            "text/plain": [
              "<Figure size 900x700 with 2 Axes>"
            ],
            "image/png": "[encoded data removed]"
          },
          "metadata": {}
        }
      ]
    },
    {
      "cell_type": "code",
      "source": [],
      "metadata": {
        "id": "y3jRKfsW85We"
      },
      "execution_count": null,
      "outputs": []
    }
  ]
}